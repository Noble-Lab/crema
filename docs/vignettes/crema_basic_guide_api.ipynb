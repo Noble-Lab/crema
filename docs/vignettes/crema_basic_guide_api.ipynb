{
 "cells": [
  {
   "cell_type": "markdown",
   "metadata": {},
   "source": [
    "# A basic guide to crema as a package"
   ]
  },
  {
   "cell_type": "markdown",
   "metadata": {},
   "source": [
    "The purpose of this vignette is to demonstrate the basics of how to use crema as a Python package. We'll be looking at how to feed crema some data and obtain the confidence estimate results we're looking for."
   ]
  },
  {
   "cell_type": "markdown",
   "metadata": {},
   "source": [
    "Note that the following calculations are performed within a [Jupyter notebook](https://jupyter.org/) to allow for an easy and convenient walkthrough experience."
   ]
  },
  {
   "cell_type": "markdown",
   "metadata": {},
   "source": [
    "## Following along locally"
   ]
  },
  {
   "cell_type": "markdown",
   "metadata": {},
   "source": [
    "To run this notebook, you'll need to have [crema](https://crema-ms.readthedocs.io/en/latest/) installed. Additionally, you'll need a file containing data on a set of PSMs. The data we’ll be using comes from single-cell proteomics experiment from this [paper](https://www.biorxiv.org/content/10.1101/665307v4):"
   ]
  },
  {
   "cell_type": "markdown",
   "metadata": {},
   "source": [
    "> Specht, Harrison. \"Single-cell proteomic and transcriptomic analysis of macrophage heterogeneity.\" bioRxiv. 01 Jan 2020, doi: https://doi.org/10.1101/665307"
   ]
  },
  {
   "cell_type": "markdown",
   "metadata": {},
   "source": [
    "The files I use in this example are slightly modified. If you need them, you can download it from the crema repository here ([example_psms_target.txt](https://raw.githubusercontent.com/Noble-Lab/crema/master/data/example_psms_target.txt), [example_psms_decoy.txt](https://raw.githubusercontent.com/Noble-Lab/crema/master/data/example_psms_decoy.txt)) and set the path to your input file:"
   ]
  },
  {
   "cell_type": "code",
   "execution_count": 1,
   "metadata": {},
   "outputs": [],
   "source": [
    "input_files = [\"../../../data/example_psms_target.txt\", \"../../../data/example_psms_decoy.txt\"]"
   ]
  },
  {
   "cell_type": "markdown",
   "metadata": {},
   "source": [
    "## Step 1: Setup our Python environment"
   ]
  },
  {
   "cell_type": "markdown",
   "metadata": {},
   "source": [
    "The first thing we need to do is import the Python packages that we'll need; crema is super lightweight so this is easy! We're also going to create an output directory to save our results in later."
   ]
  },
  {
   "cell_type": "code",
   "execution_count": 2,
   "metadata": {},
   "outputs": [],
   "source": [
    "import os\n",
    "import crema\n",
    "\n",
    "# Create an output directory\n",
    "out_dir = \"example_crema_output_dir\"\n",
    "os.makedirs(out_dir, exist_ok=True)"
   ]
  },
  {
   "cell_type": "markdown",
   "metadata": {},
   "source": [
    "## Step 2: Read the PSMs"
   ]
  },
  {
   "cell_type": "markdown",
   "metadata": {},
   "source": [
    "Now we'll need to give crema the input file (or files) to read PSMs from. The [read_file()](https://crema-ms.readthedocs.io/en/latest/api/functions.html#crema.read_file) function returns a [PsmDataset](https://crema-ms.readthedocs.io/en/latest/api/dataset.html#crema.dataset.PsmDataset) object, which uses a Pandas DataFrame to store specific column data from the input files that are necessary for confidence estimate calculations."
   ]
  },
  {
   "cell_type": "code",
   "execution_count": 3,
   "metadata": {},
   "outputs": [],
   "source": [
    "psms = crema.read_file(input_files,  spectrum_col='scan', score_col='combined p-value', target_col='target/decoy')"
   ]
  },
  {
   "cell_type": "markdown",
   "metadata": {},
   "source": [
    "Note that the [read_file()](https://crema-ms.readthedocs.io/en/latest/api/functions.html#crema.read_file) function only requires one parameter - the input files. The following parameters need not be specified unless the column names within the input files differ from the default names that [read_file()](https://crema-ms.readthedocs.io/en/latest/api/functions.html#crema.read_file) searches for. In this specific example, we specify the additional parameters for clarity purposes only; it is not necessary here because the input files we are working with have column names that are default to the [read_file()](https://crema-ms.readthedocs.io/en/latest/api/functions.html#crema.read_file) function."
   ]
  },
  {
   "cell_type": "markdown",
   "metadata": {},
   "source": [
    "The following information is the data extracted from the input_files and saved into our [PsmDataset](https://crema-ms.readthedocs.io/en/latest/api/dataset.html#crema.dataset.PsmDataset) object:"
   ]
  },
  {
   "cell_type": "code",
   "execution_count": 4,
   "metadata": {},
   "outputs": [
    {
     "data": {
      "text/html": [
       "<div>\n",
       "<style scoped>\n",
       "    .dataframe tbody tr th:only-of-type {\n",
       "        vertical-align: middle;\n",
       "    }\n",
       "\n",
       "    .dataframe tbody tr th {\n",
       "        vertical-align: top;\n",
       "    }\n",
       "\n",
       "    .dataframe thead th {\n",
       "        text-align: right;\n",
       "    }\n",
       "</style>\n",
       "<table border=\"1\" class=\"dataframe\">\n",
       "  <thead>\n",
       "    <tr style=\"text-align: right;\">\n",
       "      <th></th>\n",
       "      <th>scan</th>\n",
       "      <th>combined p-value</th>\n",
       "      <th>target/decoy</th>\n",
       "    </tr>\n",
       "  </thead>\n",
       "  <tbody>\n",
       "    <tr>\n",
       "      <th>0</th>\n",
       "      <td>11510</td>\n",
       "      <td>0.000017</td>\n",
       "      <td>True</td>\n",
       "    </tr>\n",
       "    <tr>\n",
       "      <th>1</th>\n",
       "      <td>17317</td>\n",
       "      <td>0.018082</td>\n",
       "      <td>True</td>\n",
       "    </tr>\n",
       "    <tr>\n",
       "      <th>2</th>\n",
       "      <td>11896</td>\n",
       "      <td>0.003307</td>\n",
       "      <td>True</td>\n",
       "    </tr>\n",
       "    <tr>\n",
       "      <th>3</th>\n",
       "      <td>7676</td>\n",
       "      <td>0.008335</td>\n",
       "      <td>True</td>\n",
       "    </tr>\n",
       "    <tr>\n",
       "      <th>4</th>\n",
       "      <td>9993</td>\n",
       "      <td>0.002828</td>\n",
       "      <td>True</td>\n",
       "    </tr>\n",
       "  </tbody>\n",
       "</table>\n",
       "</div>"
      ],
      "text/plain": [
       "    scan  combined p-value  target/decoy\n",
       "0  11510          0.000017          True\n",
       "1  17317          0.018082          True\n",
       "2  11896          0.003307          True\n",
       "3   7676          0.008335          True\n",
       "4   9993          0.002828          True"
      ]
     },
     "execution_count": 4,
     "metadata": {},
     "output_type": "execute_result"
    }
   ],
   "source": [
    "psms.data.head()"
   ]
  },
  {
   "cell_type": "markdown",
   "metadata": {},
   "source": [
    "## Step 3: Calculate confidence estimates"
   ]
  },
  {
   "cell_type": "markdown",
   "metadata": {},
   "source": [
    "After our [PsmDataset](https://crema-ms.readthedocs.io/en/latest/api/dataset.html#crema.dataset.PsmDataset) object has been created, we can proceed to calculating confidence estimates using one of crema's many confidence estimate methods. These methods return a [Result](https://crema-ms.readthedocs.io/en/latest/api/result.html#crema.result.Result) object, which uses a Pandas DataFrame to store the data manipulated from the [PsmDataset](https://crema-ms.readthedocs.io/en/latest/api/dataset.html#crema.dataset.PsmDataset) object along with the respective confidence estimate values."
   ]
  },
  {
   "cell_type": "markdown",
   "metadata": {},
   "source": [
    "For this vignette, we'll be using the [calculate_tdc()](https://crema-ms.readthedocs.io/en/latest/api/functions.html#crema.calculate_tdc) function. This is crema's most basic confidence estimate algorithm that uses target-decoy competition."
   ]
  },
  {
   "cell_type": "code",
   "execution_count": 5,
   "metadata": {},
   "outputs": [],
   "source": [
    "results = crema.calculate_tdc(psms)"
   ]
  },
  {
   "cell_type": "markdown",
   "metadata": {},
   "source": [
    "Keep in mind that crema has other confidence estimate methods that can be used in a similar fashion. They can be found [here](https://crema-ms.readthedocs.io/en/latest/api/functions.html)."
   ]
  },
  {
   "cell_type": "markdown",
   "metadata": {},
   "source": [
    "This is what our [Results](https://crema-ms.readthedocs.io/en/latest/api/dataset.html#crema.dataset.PsmDataset) object looks like after running the confidence estimation method:"
   ]
  },
  {
   "cell_type": "code",
   "execution_count": 6,
   "metadata": {},
   "outputs": [
    {
     "data": {
      "text/html": [
       "<div>\n",
       "<style scoped>\n",
       "    .dataframe tbody tr th:only-of-type {\n",
       "        vertical-align: middle;\n",
       "    }\n",
       "\n",
       "    .dataframe tbody tr th {\n",
       "        vertical-align: top;\n",
       "    }\n",
       "\n",
       "    .dataframe thead th {\n",
       "        text-align: right;\n",
       "    }\n",
       "</style>\n",
       "<table border=\"1\" class=\"dataframe\">\n",
       "  <thead>\n",
       "    <tr style=\"text-align: right;\">\n",
       "      <th></th>\n",
       "      <th>scan</th>\n",
       "      <th>combined p-value</th>\n",
       "      <th>target/decoy</th>\n",
       "      <th>FDR</th>\n",
       "      <th>Q_Value</th>\n",
       "    </tr>\n",
       "  </thead>\n",
       "  <tbody>\n",
       "    <tr>\n",
       "      <th>0</th>\n",
       "      <td>15869</td>\n",
       "      <td>2.900000e-31</td>\n",
       "      <td>True</td>\n",
       "      <td>1.000000</td>\n",
       "      <td>0.000303</td>\n",
       "    </tr>\n",
       "    <tr>\n",
       "      <th>1</th>\n",
       "      <td>11368</td>\n",
       "      <td>9.730000e-29</td>\n",
       "      <td>True</td>\n",
       "      <td>0.500000</td>\n",
       "      <td>0.000303</td>\n",
       "    </tr>\n",
       "    <tr>\n",
       "      <th>2</th>\n",
       "      <td>11505</td>\n",
       "      <td>1.640000e-28</td>\n",
       "      <td>True</td>\n",
       "      <td>0.333333</td>\n",
       "      <td>0.000303</td>\n",
       "    </tr>\n",
       "    <tr>\n",
       "      <th>3</th>\n",
       "      <td>15515</td>\n",
       "      <td>3.210000e-26</td>\n",
       "      <td>True</td>\n",
       "      <td>0.250000</td>\n",
       "      <td>0.000303</td>\n",
       "    </tr>\n",
       "    <tr>\n",
       "      <th>4</th>\n",
       "      <td>15987</td>\n",
       "      <td>5.830000e-26</td>\n",
       "      <td>True</td>\n",
       "      <td>0.200000</td>\n",
       "      <td>0.000303</td>\n",
       "    </tr>\n",
       "  </tbody>\n",
       "</table>\n",
       "</div>"
      ],
      "text/plain": [
       "    scan  combined p-value  target/decoy       FDR   Q_Value\n",
       "0  15869      2.900000e-31          True  1.000000  0.000303\n",
       "1  11368      9.730000e-29          True  0.500000  0.000303\n",
       "2  11505      1.640000e-28          True  0.333333  0.000303\n",
       "3  15515      3.210000e-26          True  0.250000  0.000303\n",
       "4  15987      5.830000e-26          True  0.200000  0.000303"
      ]
     },
     "execution_count": 6,
     "metadata": {},
     "output_type": "execute_result"
    }
   ],
   "source": [
    "results.data.head()"
   ]
  },
  {
   "cell_type": "markdown",
   "metadata": {},
   "source": [
    "## Step 4: Save and export the results"
   ]
  },
  {
   "cell_type": "markdown",
   "metadata": {},
   "source": [
    "Great, we're nearly done! All that is left to do is call the [write_file()](https://crema-ms.readthedocs.io/en/latest/api/result.html#crema.result.Result.write_csv) function which will export our results to the specified location."
   ]
  },
  {
   "cell_type": "code",
   "execution_count": 7,
   "metadata": {},
   "outputs": [
    {
     "data": {
      "text/plain": [
       "'example_crema_output_dir\\\\crema.psm_results.txt'"
      ]
     },
     "execution_count": 7,
     "metadata": {},
     "output_type": "execute_result"
    }
   ],
   "source": [
    "result_files = results.write_file(output_dir=out_dir)\n",
    "result_files"
   ]
  },
  {
   "cell_type": "markdown",
   "metadata": {},
   "source": [
    "## Wrapping Up"
   ]
  },
  {
   "cell_type": "markdown",
   "metadata": {},
   "source": [
    "Congrats! You are now capable of using crema as a Python package! If you'd like to take your crema skills to the next level, check out some of the other vignettes. For more details about any of the crema functions and classes that we used, see the [crema Python API documentation](https://crema-ms.readthedocs.io/en/latest/api/index.html)."
   ]
  }
 ],
 "metadata": {
  "kernelspec": {
   "display_name": "Python 3",
   "language": "python",
   "name": "python3"
  },
  "language_info": {
   "codemirror_mode": {
    "name": "ipython",
    "version": 3
   },
   "file_extension": ".py",
   "mimetype": "text/x-python",
   "name": "python",
   "nbconvert_exporter": "python",
   "pygments_lexer": "ipython3",
   "version": "3.7.4"
  }
 },
 "nbformat": 4,
 "nbformat_minor": 2
}
